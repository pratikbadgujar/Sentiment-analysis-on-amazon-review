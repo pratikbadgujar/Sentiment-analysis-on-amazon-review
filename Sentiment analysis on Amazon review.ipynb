{
 "cells": [
  {
   "cell_type": "markdown",
   "id": "38c4fd7c",
   "metadata": {},
   "source": [
    "# Sentiment Analysis on Amazon Reviews"
   ]
  },
  {
   "cell_type": "code",
   "execution_count": 112,
   "id": "63c87468",
   "metadata": {},
   "outputs": [],
   "source": [
    "# Importing some necessary libraries\n",
    "import pandas as pd\n",
    "import numpy as np\n",
    "import matplotlib.pyplot as plt\n",
    "import nltk"
   ]
  },
  {
   "cell_type": "code",
   "execution_count": 113,
   "id": "4ce2c701",
   "metadata": {},
   "outputs": [],
   "source": [
    "amazon = pd.read_csv(r'E:\\Imarticus\\Dataset\\amazonreviews.tsv' , sep = '\\t')   # file is loaded "
   ]
  },
  {
   "cell_type": "code",
   "execution_count": 114,
   "id": "b3c72c2d",
   "metadata": {},
   "outputs": [
    {
     "data": {
      "text/html": [
       "<div>\n",
       "<style scoped>\n",
       "    .dataframe tbody tr th:only-of-type {\n",
       "        vertical-align: middle;\n",
       "    }\n",
       "\n",
       "    .dataframe tbody tr th {\n",
       "        vertical-align: top;\n",
       "    }\n",
       "\n",
       "    .dataframe thead th {\n",
       "        text-align: right;\n",
       "    }\n",
       "</style>\n",
       "<table border=\"1\" class=\"dataframe\">\n",
       "  <thead>\n",
       "    <tr style=\"text-align: right;\">\n",
       "      <th></th>\n",
       "      <th>label</th>\n",
       "      <th>review</th>\n",
       "    </tr>\n",
       "  </thead>\n",
       "  <tbody>\n",
       "    <tr>\n",
       "      <th>0</th>\n",
       "      <td>pos</td>\n",
       "      <td>Stuning even for the non-gamer: This sound tra...</td>\n",
       "    </tr>\n",
       "    <tr>\n",
       "      <th>1</th>\n",
       "      <td>pos</td>\n",
       "      <td>The best soundtrack ever to anything.: I'm rea...</td>\n",
       "    </tr>\n",
       "    <tr>\n",
       "      <th>2</th>\n",
       "      <td>pos</td>\n",
       "      <td>Amazing!: This soundtrack is my favorite music...</td>\n",
       "    </tr>\n",
       "    <tr>\n",
       "      <th>3</th>\n",
       "      <td>pos</td>\n",
       "      <td>Excellent Soundtrack: I truly like this soundt...</td>\n",
       "    </tr>\n",
       "    <tr>\n",
       "      <th>4</th>\n",
       "      <td>pos</td>\n",
       "      <td>Remember, Pull Your Jaw Off The Floor After He...</td>\n",
       "    </tr>\n",
       "  </tbody>\n",
       "</table>\n",
       "</div>"
      ],
      "text/plain": [
       "  label                                             review\n",
       "0   pos  Stuning even for the non-gamer: This sound tra...\n",
       "1   pos  The best soundtrack ever to anything.: I'm rea...\n",
       "2   pos  Amazing!: This soundtrack is my favorite music...\n",
       "3   pos  Excellent Soundtrack: I truly like this soundt...\n",
       "4   pos  Remember, Pull Your Jaw Off The Floor After He..."
      ]
     },
     "execution_count": 114,
     "metadata": {},
     "output_type": "execute_result"
    }
   ],
   "source": [
    "amazon.head()"
   ]
  },
  {
   "cell_type": "code",
   "execution_count": 115,
   "id": "59199bdd",
   "metadata": {
    "scrolled": true
   },
   "outputs": [
    {
     "data": {
      "text/plain": [
       "(10000, 2)"
      ]
     },
     "execution_count": 115,
     "metadata": {},
     "output_type": "execute_result"
    }
   ],
   "source": [
    "amazon.shape    # this is dimension of dataset (10000 rows & 2 columns)"
   ]
  },
  {
   "cell_type": "markdown",
   "id": "37595f8f",
   "metadata": {},
   "source": [
    "### Sentiment Analysis"
   ]
  },
  {
   "cell_type": "code",
   "execution_count": 116,
   "id": "41494075",
   "metadata": {},
   "outputs": [],
   "source": [
    "from nltk.sentiment.vader import SentimentIntensityAnalyzer"
   ]
  },
  {
   "cell_type": "code",
   "execution_count": 117,
   "id": "a9ff8101",
   "metadata": {},
   "outputs": [],
   "source": [
    "sentiment = SentimentIntensityAnalyzer()   # creating instance"
   ]
  },
  {
   "cell_type": "code",
   "execution_count": 118,
   "id": "4bdd3ac2",
   "metadata": {
    "scrolled": true
   },
   "outputs": [
    {
     "data": {
      "text/plain": [
       "'Stuning even for the non-gamer: This sound track was beautiful! It paints the senery in your mind so well I would recomend it even to people who hate vid. game music! I have played the game Chrono Cross but out of all of the games I have ever played it has the best music! It backs away from crude keyboarding and takes a fresher step with grate guitars and soulful orchestras. It would impress anyone who cares to listen! ^_^'"
      ]
     },
     "execution_count": 118,
     "metadata": {},
     "output_type": "execute_result"
    }
   ],
   "source": [
    "# now for checking purpose , we take 1st review from our dataset\n",
    "\n",
    "amazon.iloc[0,1]   #[0,1] --> as indexing starts with 0 in python, 0 means first row & 1 means 2nd column."
   ]
  },
  {
   "cell_type": "markdown",
   "id": "f16e2aba",
   "metadata": {},
   "source": [
    "#### now apply the sentiment analysis to this first comment"
   ]
  },
  {
   "cell_type": "code",
   "execution_count": 119,
   "id": "c6085706",
   "metadata": {},
   "outputs": [
    {
     "data": {
      "text/plain": [
       "{'neg': 0.088, 'neu': 0.669, 'pos': 0.243, 'compound': 0.9454}"
      ]
     },
     "execution_count": 119,
     "metadata": {},
     "output_type": "execute_result"
    }
   ],
   "source": [
    "output = sentiment.polarity_scores(amazon.iloc[0,1])\n",
    "output"
   ]
  },
  {
   "cell_type": "markdown",
   "id": "1e6964c2",
   "metadata": {},
   "source": [
    "So this 'compound' indicates positivity or negativity of comment as its greater than zero means comment is positive and vice versa and if compound is zero then comment is neutral "
   ]
  },
  {
   "cell_type": "markdown",
   "id": "7b0b20a6",
   "metadata": {},
   "source": [
    "#### Now applying this sentimental analysis to all of this reviews"
   ]
  },
  {
   "cell_type": "code",
   "execution_count": 120,
   "id": "822aa13a",
   "metadata": {},
   "outputs": [],
   "source": [
    "comp_score = [] #empty list\n",
    "pos_score  = [] #empty list\n",
    "neg_score  = [] #empty list\n",
    "\n",
    "for i in range (0,amazon.shape[0]):  # amazon.shape[0] means all rows\n",
    "    analysis = sentiment.polarity_scores(amazon.iloc[i , 1])\n",
    "    comp = analysis['compound']\n",
    "    comp_score.append(comp)  # this will collects compound score of all reviews\n",
    "    \n",
    "    pos  = analysis['pos']\n",
    "    pos_score.append(pos)   # this will collects positive score of all reviews\n",
    "    \n",
    "    neg  = analysis['neg']\n",
    "    neg_score.append(neg)   # this will collects negatice score of all reviews"
   ]
  },
  {
   "cell_type": "markdown",
   "id": "94d5a70a",
   "metadata": {},
   "source": [
    "So Now we have to add this scores to amazon dataframe in order to make easiness for observation"
   ]
  },
  {
   "cell_type": "code",
   "execution_count": 121,
   "id": "5c987a73",
   "metadata": {},
   "outputs": [],
   "source": [
    "amazon['positive_score'] = pos_score\n",
    "amazon['negative_score'] = neg_score\n",
    "amazon['compound_score'] = comp_score"
   ]
  },
  {
   "cell_type": "code",
   "execution_count": 122,
   "id": "ec100daa",
   "metadata": {
    "scrolled": true
   },
   "outputs": [
    {
     "data": {
      "text/html": [
       "<div>\n",
       "<style scoped>\n",
       "    .dataframe tbody tr th:only-of-type {\n",
       "        vertical-align: middle;\n",
       "    }\n",
       "\n",
       "    .dataframe tbody tr th {\n",
       "        vertical-align: top;\n",
       "    }\n",
       "\n",
       "    .dataframe thead th {\n",
       "        text-align: right;\n",
       "    }\n",
       "</style>\n",
       "<table border=\"1\" class=\"dataframe\">\n",
       "  <thead>\n",
       "    <tr style=\"text-align: right;\">\n",
       "      <th></th>\n",
       "      <th>label</th>\n",
       "      <th>review</th>\n",
       "      <th>positive_score</th>\n",
       "      <th>negative_score</th>\n",
       "      <th>compound_score</th>\n",
       "    </tr>\n",
       "  </thead>\n",
       "  <tbody>\n",
       "    <tr>\n",
       "      <th>0</th>\n",
       "      <td>pos</td>\n",
       "      <td>Stuning even for the non-gamer: This sound tra...</td>\n",
       "      <td>0.243</td>\n",
       "      <td>0.088</td>\n",
       "      <td>0.9454</td>\n",
       "    </tr>\n",
       "    <tr>\n",
       "      <th>1</th>\n",
       "      <td>pos</td>\n",
       "      <td>The best soundtrack ever to anything.: I'm rea...</td>\n",
       "      <td>0.145</td>\n",
       "      <td>0.018</td>\n",
       "      <td>0.8957</td>\n",
       "    </tr>\n",
       "    <tr>\n",
       "      <th>2</th>\n",
       "      <td>pos</td>\n",
       "      <td>Amazing!: This soundtrack is my favorite music...</td>\n",
       "      <td>0.268</td>\n",
       "      <td>0.040</td>\n",
       "      <td>0.9858</td>\n",
       "    </tr>\n",
       "    <tr>\n",
       "      <th>3</th>\n",
       "      <td>pos</td>\n",
       "      <td>Excellent Soundtrack: I truly like this soundt...</td>\n",
       "      <td>0.295</td>\n",
       "      <td>0.090</td>\n",
       "      <td>0.9814</td>\n",
       "    </tr>\n",
       "    <tr>\n",
       "      <th>4</th>\n",
       "      <td>pos</td>\n",
       "      <td>Remember, Pull Your Jaw Off The Floor After He...</td>\n",
       "      <td>0.254</td>\n",
       "      <td>0.000</td>\n",
       "      <td>0.9781</td>\n",
       "    </tr>\n",
       "  </tbody>\n",
       "</table>\n",
       "</div>"
      ],
      "text/plain": [
       "  label                                             review  positive_score  \\\n",
       "0   pos  Stuning even for the non-gamer: This sound tra...           0.243   \n",
       "1   pos  The best soundtrack ever to anything.: I'm rea...           0.145   \n",
       "2   pos  Amazing!: This soundtrack is my favorite music...           0.268   \n",
       "3   pos  Excellent Soundtrack: I truly like this soundt...           0.295   \n",
       "4   pos  Remember, Pull Your Jaw Off The Floor After He...           0.254   \n",
       "\n",
       "   negative_score  compound_score  \n",
       "0           0.088          0.9454  \n",
       "1           0.018          0.8957  \n",
       "2           0.040          0.9858  \n",
       "3           0.090          0.9814  \n",
       "4           0.000          0.9781  "
      ]
     },
     "execution_count": 122,
     "metadata": {},
     "output_type": "execute_result"
    }
   ],
   "source": [
    "amazon.head()"
   ]
  },
  {
   "cell_type": "code",
   "execution_count": 123,
   "id": "feefb6b7",
   "metadata": {},
   "outputs": [
    {
     "data": {
      "text/plain": [
       "0.3352067199999999"
      ]
     },
     "execution_count": 123,
     "metadata": {},
     "output_type": "execute_result"
    }
   ],
   "source": [
    "amazon.compound_score.mean()"
   ]
  },
  {
   "cell_type": "code",
   "execution_count": 124,
   "id": "5149b7f0",
   "metadata": {},
   "outputs": [
    {
     "data": {
      "text/plain": [
       "0.6696"
      ]
     },
     "execution_count": 124,
     "metadata": {},
     "output_type": "execute_result"
    }
   ],
   "source": [
    "amazon.compound_score.median()"
   ]
  },
  {
   "cell_type": "code",
   "execution_count": 125,
   "id": "60031846",
   "metadata": {},
   "outputs": [
    {
     "data": {
      "text/plain": [
       "-0.9945"
      ]
     },
     "execution_count": 125,
     "metadata": {},
     "output_type": "execute_result"
    }
   ],
   "source": [
    "amazon.compound_score.min()"
   ]
  },
  {
   "cell_type": "code",
   "execution_count": 126,
   "id": "5779a74a",
   "metadata": {},
   "outputs": [
    {
     "data": {
      "text/plain": [
       "0.9987"
      ]
     },
     "execution_count": 126,
     "metadata": {},
     "output_type": "execute_result"
    }
   ],
   "source": [
    "amazon.compound_score.max()"
   ]
  },
  {
   "cell_type": "markdown",
   "id": "007bbc12",
   "metadata": {},
   "source": [
    "### So , now we are finding numbers of positive and negative reviews"
   ]
  },
  {
   "cell_type": "code",
   "execution_count": 127,
   "id": "93286e8d",
   "metadata": {},
   "outputs": [
    {
     "name": "stdout",
     "output_type": "stream",
     "text": [
      "Total number of positive reviews are :-  6795\n",
      "Total number of negative reviews are :-  3064\n",
      "Total number of neutral reviews are  :-  141\n"
     ]
    }
   ],
   "source": [
    "positive = len(amazon.compound_score[amazon.compound_score > 0])\n",
    "negative = len(amazon.compound_score[amazon.compound_score < 0])\n",
    "neutral  = len(amazon.compound_score[amazon.compound_score == 0])\n",
    "\n",
    "print('Total number of positive reviews are :- ' , positive)\n",
    "print('Total number of negative reviews are :- ' , negative)\n",
    "print('Total number of neutral reviews are  :- ', neutral)"
   ]
  },
  {
   "cell_type": "code",
   "execution_count": null,
   "id": "e6ebba7e",
   "metadata": {},
   "outputs": [],
   "source": []
  },
  {
   "cell_type": "markdown",
   "id": "221f3f08",
   "metadata": {},
   "source": [
    "### Text Blob method"
   ]
  },
  {
   "cell_type": "code",
   "execution_count": 128,
   "id": "4690f1d7",
   "metadata": {},
   "outputs": [],
   "source": [
    "amazon = pd.read_csv(r'E:\\Imarticus\\Dataset\\amazonreviews.tsv' , sep = '\\t')"
   ]
  },
  {
   "cell_type": "code",
   "execution_count": 129,
   "id": "072e9c9c",
   "metadata": {},
   "outputs": [
    {
     "data": {
      "text/html": [
       "<div>\n",
       "<style scoped>\n",
       "    .dataframe tbody tr th:only-of-type {\n",
       "        vertical-align: middle;\n",
       "    }\n",
       "\n",
       "    .dataframe tbody tr th {\n",
       "        vertical-align: top;\n",
       "    }\n",
       "\n",
       "    .dataframe thead th {\n",
       "        text-align: right;\n",
       "    }\n",
       "</style>\n",
       "<table border=\"1\" class=\"dataframe\">\n",
       "  <thead>\n",
       "    <tr style=\"text-align: right;\">\n",
       "      <th></th>\n",
       "      <th>label</th>\n",
       "      <th>review</th>\n",
       "    </tr>\n",
       "  </thead>\n",
       "  <tbody>\n",
       "    <tr>\n",
       "      <th>0</th>\n",
       "      <td>pos</td>\n",
       "      <td>Stuning even for the non-gamer: This sound tra...</td>\n",
       "    </tr>\n",
       "    <tr>\n",
       "      <th>1</th>\n",
       "      <td>pos</td>\n",
       "      <td>The best soundtrack ever to anything.: I'm rea...</td>\n",
       "    </tr>\n",
       "    <tr>\n",
       "      <th>2</th>\n",
       "      <td>pos</td>\n",
       "      <td>Amazing!: This soundtrack is my favorite music...</td>\n",
       "    </tr>\n",
       "    <tr>\n",
       "      <th>3</th>\n",
       "      <td>pos</td>\n",
       "      <td>Excellent Soundtrack: I truly like this soundt...</td>\n",
       "    </tr>\n",
       "    <tr>\n",
       "      <th>4</th>\n",
       "      <td>pos</td>\n",
       "      <td>Remember, Pull Your Jaw Off The Floor After He...</td>\n",
       "    </tr>\n",
       "  </tbody>\n",
       "</table>\n",
       "</div>"
      ],
      "text/plain": [
       "  label                                             review\n",
       "0   pos  Stuning even for the non-gamer: This sound tra...\n",
       "1   pos  The best soundtrack ever to anything.: I'm rea...\n",
       "2   pos  Amazing!: This soundtrack is my favorite music...\n",
       "3   pos  Excellent Soundtrack: I truly like this soundt...\n",
       "4   pos  Remember, Pull Your Jaw Off The Floor After He..."
      ]
     },
     "execution_count": 129,
     "metadata": {},
     "output_type": "execute_result"
    }
   ],
   "source": [
    "amazon.head()"
   ]
  },
  {
   "cell_type": "code",
   "execution_count": 130,
   "id": "7e8bcc85",
   "metadata": {},
   "outputs": [],
   "source": [
    "from textblob import TextBlob"
   ]
  },
  {
   "cell_type": "code",
   "execution_count": 131,
   "id": "2e5bbe15",
   "metadata": {},
   "outputs": [
    {
     "data": {
      "text/plain": [
       "Sentiment(polarity=-0.02187500000000002, subjectivity=0.5499999999999999)"
      ]
     },
     "execution_count": 131,
     "metadata": {},
     "output_type": "execute_result"
    }
   ],
   "source": [
    "analysis = TextBlob(amazon.iloc[0,1])\n",
    "analysis.sentiment"
   ]
  },
  {
   "cell_type": "markdown",
   "id": "4cce7886",
   "metadata": {},
   "source": [
    "Polarity tells us positivity or negativity of review (+ value means positive review and vice versa) ,\n",
    "Subjectivity tells about fact or opinion of review"
   ]
  },
  {
   "cell_type": "code",
   "execution_count": null,
   "id": "62d735d1",
   "metadata": {},
   "outputs": [],
   "source": []
  },
  {
   "cell_type": "code",
   "execution_count": 132,
   "id": "3aab99b3",
   "metadata": {},
   "outputs": [],
   "source": [
    "score_pol = [] #empty list\n",
    "\n",
    "for i in range(0,amazon.shape[0]):  # taken all rows in review \n",
    "    score = TextBlob(amazon.iloc[i][1]).sentiment\n",
    "    score1 = score[0]  # score[0] --> polarity score only (as we have to decide review is +ve or -ve)\n",
    "    score_pol.append(score1)"
   ]
  },
  {
   "cell_type": "code",
   "execution_count": 133,
   "id": "3f0333c6",
   "metadata": {},
   "outputs": [],
   "source": [
    "amazon['sentiment_score'] = score_pol"
   ]
  },
  {
   "cell_type": "code",
   "execution_count": 134,
   "id": "ada5efcb",
   "metadata": {},
   "outputs": [
    {
     "data": {
      "text/html": [
       "<div>\n",
       "<style scoped>\n",
       "    .dataframe tbody tr th:only-of-type {\n",
       "        vertical-align: middle;\n",
       "    }\n",
       "\n",
       "    .dataframe tbody tr th {\n",
       "        vertical-align: top;\n",
       "    }\n",
       "\n",
       "    .dataframe thead th {\n",
       "        text-align: right;\n",
       "    }\n",
       "</style>\n",
       "<table border=\"1\" class=\"dataframe\">\n",
       "  <thead>\n",
       "    <tr style=\"text-align: right;\">\n",
       "      <th></th>\n",
       "      <th>label</th>\n",
       "      <th>review</th>\n",
       "      <th>sentiment_score</th>\n",
       "    </tr>\n",
       "  </thead>\n",
       "  <tbody>\n",
       "    <tr>\n",
       "      <th>0</th>\n",
       "      <td>pos</td>\n",
       "      <td>Stuning even for the non-gamer: This sound tra...</td>\n",
       "      <td>-0.021875</td>\n",
       "    </tr>\n",
       "    <tr>\n",
       "      <th>1</th>\n",
       "      <td>pos</td>\n",
       "      <td>The best soundtrack ever to anything.: I'm rea...</td>\n",
       "      <td>0.261111</td>\n",
       "    </tr>\n",
       "    <tr>\n",
       "      <th>2</th>\n",
       "      <td>pos</td>\n",
       "      <td>Amazing!: This soundtrack is my favorite music...</td>\n",
       "      <td>0.274691</td>\n",
       "    </tr>\n",
       "    <tr>\n",
       "      <th>3</th>\n",
       "      <td>pos</td>\n",
       "      <td>Excellent Soundtrack: I truly like this soundt...</td>\n",
       "      <td>0.272727</td>\n",
       "    </tr>\n",
       "    <tr>\n",
       "      <th>4</th>\n",
       "      <td>pos</td>\n",
       "      <td>Remember, Pull Your Jaw Off The Floor After He...</td>\n",
       "      <td>0.324802</td>\n",
       "    </tr>\n",
       "  </tbody>\n",
       "</table>\n",
       "</div>"
      ],
      "text/plain": [
       "  label                                             review  sentiment_score\n",
       "0   pos  Stuning even for the non-gamer: This sound tra...        -0.021875\n",
       "1   pos  The best soundtrack ever to anything.: I'm rea...         0.261111\n",
       "2   pos  Amazing!: This soundtrack is my favorite music...         0.274691\n",
       "3   pos  Excellent Soundtrack: I truly like this soundt...         0.272727\n",
       "4   pos  Remember, Pull Your Jaw Off The Floor After He...         0.324802"
      ]
     },
     "execution_count": 134,
     "metadata": {},
     "output_type": "execute_result"
    }
   ],
   "source": [
    "amazon.head()"
   ]
  },
  {
   "cell_type": "code",
   "execution_count": 135,
   "id": "b62aea81",
   "metadata": {},
   "outputs": [
    {
     "data": {
      "text/plain": [
       "0.14501923626191635"
      ]
     },
     "execution_count": 135,
     "metadata": {},
     "output_type": "execute_result"
    }
   ],
   "source": [
    "amazon.sentiment_score.mean()"
   ]
  },
  {
   "cell_type": "code",
   "execution_count": 136,
   "id": "d5c9df5d",
   "metadata": {},
   "outputs": [
    {
     "data": {
      "text/plain": [
       "0.14999999999999997"
      ]
     },
     "execution_count": 136,
     "metadata": {},
     "output_type": "execute_result"
    }
   ],
   "source": [
    "amazon.sentiment_score.median()"
   ]
  },
  {
   "cell_type": "code",
   "execution_count": 137,
   "id": "bdd1615f",
   "metadata": {},
   "outputs": [
    {
     "data": {
      "text/plain": [
       "1.0"
      ]
     },
     "execution_count": 137,
     "metadata": {},
     "output_type": "execute_result"
    }
   ],
   "source": [
    "amazon.sentiment_score.max()"
   ]
  },
  {
   "cell_type": "code",
   "execution_count": 138,
   "id": "16df7366",
   "metadata": {},
   "outputs": [
    {
     "data": {
      "text/plain": [
       "-1.0"
      ]
     },
     "execution_count": 138,
     "metadata": {},
     "output_type": "execute_result"
    }
   ],
   "source": [
    "amazon.sentiment_score.min()"
   ]
  },
  {
   "cell_type": "markdown",
   "id": "204844e2",
   "metadata": {},
   "source": [
    "### Now we sagrigating reviews in positive and negative reviews"
   ]
  },
  {
   "cell_type": "code",
   "execution_count": 139,
   "id": "666d4c5a",
   "metadata": {},
   "outputs": [
    {
     "name": "stdout",
     "output_type": "stream",
     "text": [
      "Total number of positive reviews are :-  7411\n",
      "Total number of negative reviews are :-  2428\n",
      "Total number of neutral reviews are :-  161\n"
     ]
    }
   ],
   "source": [
    "positive_review = len(amazon.sentiment_score[amazon.sentiment_score > 0])\n",
    "negative_review = len(amazon.sentiment_score[amazon.sentiment_score < 0])\n",
    "neutral_review = len(amazon.sentiment_score[amazon.sentiment_score == 0])\n",
    "\n",
    "print('Total number of positive reviews are :- ', positive_review)\n",
    "print('Total number of negative reviews are :- ', negative_review)\n",
    "print('Total number of neutral reviews are :- ', neutral_review)"
   ]
  },
  {
   "cell_type": "code",
   "execution_count": null,
   "id": "3f6fba12",
   "metadata": {},
   "outputs": [],
   "source": []
  },
  {
   "cell_type": "markdown",
   "id": "f22e9f90",
   "metadata": {},
   "source": [
    "### WordCloud"
   ]
  },
  {
   "cell_type": "code",
   "execution_count": 140,
   "id": "f6d7dd8d",
   "metadata": {},
   "outputs": [],
   "source": [
    "from wordcloud import WordCloud   # importing wordcloud"
   ]
  },
  {
   "cell_type": "code",
   "execution_count": 141,
   "id": "ea44d040",
   "metadata": {
    "scrolled": true
   },
   "outputs": [
    {
     "data": {
      "text/plain": [
       "['i',\n",
       " 'me',\n",
       " 'my',\n",
       " 'myself',\n",
       " 'we',\n",
       " 'our',\n",
       " 'ours',\n",
       " 'ourselves',\n",
       " 'you',\n",
       " \"you're\",\n",
       " \"you've\",\n",
       " \"you'll\",\n",
       " \"you'd\",\n",
       " 'your',\n",
       " 'yours',\n",
       " 'yourself',\n",
       " 'yourselves',\n",
       " 'he',\n",
       " 'him',\n",
       " 'his',\n",
       " 'himself',\n",
       " 'she',\n",
       " \"she's\",\n",
       " 'her',\n",
       " 'hers',\n",
       " 'herself',\n",
       " 'it',\n",
       " \"it's\",\n",
       " 'its',\n",
       " 'itself',\n",
       " 'they',\n",
       " 'them',\n",
       " 'their',\n",
       " 'theirs',\n",
       " 'themselves',\n",
       " 'what',\n",
       " 'which',\n",
       " 'who',\n",
       " 'whom',\n",
       " 'this',\n",
       " 'that',\n",
       " \"that'll\",\n",
       " 'these',\n",
       " 'those',\n",
       " 'am',\n",
       " 'is',\n",
       " 'are',\n",
       " 'was',\n",
       " 'were',\n",
       " 'be',\n",
       " 'been',\n",
       " 'being',\n",
       " 'have',\n",
       " 'has',\n",
       " 'had',\n",
       " 'having',\n",
       " 'do',\n",
       " 'does',\n",
       " 'did',\n",
       " 'doing',\n",
       " 'a',\n",
       " 'an',\n",
       " 'the',\n",
       " 'and',\n",
       " 'but',\n",
       " 'if',\n",
       " 'or',\n",
       " 'because',\n",
       " 'as',\n",
       " 'until',\n",
       " 'while',\n",
       " 'of',\n",
       " 'at',\n",
       " 'by',\n",
       " 'for',\n",
       " 'with',\n",
       " 'about',\n",
       " 'against',\n",
       " 'between',\n",
       " 'into',\n",
       " 'through',\n",
       " 'during',\n",
       " 'before',\n",
       " 'after',\n",
       " 'above',\n",
       " 'below',\n",
       " 'to',\n",
       " 'from',\n",
       " 'up',\n",
       " 'down',\n",
       " 'in',\n",
       " 'out',\n",
       " 'on',\n",
       " 'off',\n",
       " 'over',\n",
       " 'under',\n",
       " 'again',\n",
       " 'further',\n",
       " 'then',\n",
       " 'once',\n",
       " 'here',\n",
       " 'there',\n",
       " 'when',\n",
       " 'where',\n",
       " 'why',\n",
       " 'how',\n",
       " 'all',\n",
       " 'any',\n",
       " 'both',\n",
       " 'each',\n",
       " 'few',\n",
       " 'more',\n",
       " 'most',\n",
       " 'other',\n",
       " 'some',\n",
       " 'such',\n",
       " 'no',\n",
       " 'nor',\n",
       " 'not',\n",
       " 'only',\n",
       " 'own',\n",
       " 'same',\n",
       " 'so',\n",
       " 'than',\n",
       " 'too',\n",
       " 'very',\n",
       " 's',\n",
       " 't',\n",
       " 'can',\n",
       " 'will',\n",
       " 'just',\n",
       " 'don',\n",
       " \"don't\",\n",
       " 'should',\n",
       " \"should've\",\n",
       " 'now',\n",
       " 'd',\n",
       " 'll',\n",
       " 'm',\n",
       " 'o',\n",
       " 're',\n",
       " 've',\n",
       " 'y',\n",
       " 'ain',\n",
       " 'aren',\n",
       " \"aren't\",\n",
       " 'couldn',\n",
       " \"couldn't\",\n",
       " 'didn',\n",
       " \"didn't\",\n",
       " 'doesn',\n",
       " \"doesn't\",\n",
       " 'hadn',\n",
       " \"hadn't\",\n",
       " 'hasn',\n",
       " \"hasn't\",\n",
       " 'haven',\n",
       " \"haven't\",\n",
       " 'isn',\n",
       " \"isn't\",\n",
       " 'ma',\n",
       " 'mightn',\n",
       " \"mightn't\",\n",
       " 'mustn',\n",
       " \"mustn't\",\n",
       " 'needn',\n",
       " \"needn't\",\n",
       " 'shan',\n",
       " \"shan't\",\n",
       " 'shouldn',\n",
       " \"shouldn't\",\n",
       " 'wasn',\n",
       " \"wasn't\",\n",
       " 'weren',\n",
       " \"weren't\",\n",
       " 'won',\n",
       " \"won't\",\n",
       " 'wouldn',\n",
       " \"wouldn't\"]"
      ]
     },
     "execution_count": 141,
     "metadata": {},
     "output_type": "execute_result"
    }
   ],
   "source": [
    "from nltk.corpus import stopwords\n",
    "stopwords.words('english')  \n",
    "# this shows words which are commonly used in sentences but doesnt add any value for sentimental analysis "
   ]
  },
  {
   "cell_type": "code",
   "execution_count": 142,
   "id": "cbc607cd",
   "metadata": {
    "scrolled": true
   },
   "outputs": [
    {
     "data": {
      "text/plain": [
       "<matplotlib.image.AxesImage at 0x1e2b8e8d9a0>"
      ]
     },
     "execution_count": 142,
     "metadata": {},
     "output_type": "execute_result"
    },
    {
     "data": {
      "image/png": "[encoded data removed]",
      "text/plain": [
       "<Figure size 720x720 with 1 Axes>"
      ]
     },
     "metadata": {
      "needs_background": "light"
     },
     "output_type": "display_data"
    }
   ],
   "source": [
    "chart = WordCloud(stopwords=stopwords.words('english') , max_words=  50).generate(str(amazon.review))\n",
    "plt.figure(figsize=(10,10))\n",
    "plt.imshow(chart)"
   ]
  },
  {
   "cell_type": "markdown",
   "id": "29dbaea1",
   "metadata": {},
   "source": [
    "Above Wordcloud shows some words which are  frequantly used in reviews of amazon "
   ]
  },
  {
   "cell_type": "code",
   "execution_count": null,
   "id": "ab1974a9",
   "metadata": {},
   "outputs": [],
   "source": []
  },
  {
   "cell_type": "markdown",
   "id": "6ba47694",
   "metadata": {},
   "source": [
    "### --- End of Notebook ---"
   ]
  },
  {
   "cell_type": "code",
   "execution_count": null,
   "id": "aa9f029d",
   "metadata": {},
   "outputs": [],
   "source": []
  }
 ],
 "metadata": {
  "kernelspec": {
   "display_name": "Python 3",
   "language": "python",
   "name": "python3"
  },
  "language_info": {
   "codemirror_mode": {
    "name": "ipython",
    "version": 3
   },
   "file_extension": ".py",
   "mimetype": "text/x-python",
   "name": "python",
   "nbconvert_exporter": "python",
   "pygments_lexer": "ipython3",
   "version": "3.8.8"
  }
 },
 "nbformat": 4,
 "nbformat_minor": 5
}
